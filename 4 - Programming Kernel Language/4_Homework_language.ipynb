{
 "cells": [
  {
   "cell_type": "code",
   "execution_count": 1,
   "id": "4202bc36",
   "metadata": {},
   "outputs": [],
   "source": [
    "import numpy as np\n",
    "np.set_printoptions(suppress=True, precision=10)"
   ]
  },
  {
   "cell_type": "markdown",
   "id": "6e1da3e1",
   "metadata": {},
   "source": [
    "phi"
   ]
  },
  {
   "cell_type": "code",
   "execution_count": 2,
   "id": "9f32627e",
   "metadata": {},
   "outputs": [],
   "source": [
    "#you are given 6 phrases\n",
    "\n",
    "e1 = [\"yo\",\"dude\"] # 3 in english\n",
    "e2 = [\"what's\",\"up\"]\n",
    "e3 = [\"hey\",\"there\",\"what's\",\"up\"]\n",
    "g1 = [\"servus\"] # 3 in german\n",
    "g2 = [\"grüß\",\"gott\"]\n",
    "g3 = [\"was\",\"geht\",\"ab\"]\n",
    "\n",
    "\n",
    "phrases = [g1,g2,g3,e1,e2,e3]\n",
    "# 1 for german phrase, -1 for english phrase\n",
    "# y is the actual label for the phrases e1,e2,e3,g1,g2,g3\n",
    "y = np.array([1,1,1,-1,-1,-1])"
   ]
  },
  {
   "cell_type": "code",
   "execution_count": 5,
   "id": "bce8a2a9",
   "metadata": {},
   "outputs": [
    {
     "data": {
      "text/plain": [
       "array([0., 0., 0., 0., 0., 0., 0., 1., 1., 0., 0., 0., 0., 0.])"
      ]
     },
     "execution_count": 5,
     "metadata": {},
     "output_type": "execute_result"
    }
   ],
   "source": [
    "G_words = np.array([\"servus\", \"grüß\",\"gott\",\"digga\",\"was\",\"geht\",\"ab\"])\n",
    "G = G_words.shape[0]\n",
    "\n",
    "E_words = np.array([\"yo\",\"dude\",\"what's\",\"up\",\"hey\",\"there\",\"happening\"])\n",
    "E = E_words.shape[0]\n",
    "\n",
    "#takes a phrase and returns a one-hot vector with an index for every word\n",
    "def phi (phrase):\n",
    "    phi_x = np.zeros((G+E))\n",
    "\n",
    "    for i in range(len(G_words)):\n",
    "        phi_x[i] = (G_words[i] in phrase) \n",
    "    for i in range(len(E_words)):\n",
    "        phi_x[i + G] = (E_words[i] in phrase)\n",
    "    \n",
    "    return phi_x\n",
    "\n",
    "phi([\"yo\",\"dude\"])"
   ]
  },
  {
   "cell_type": "code",
   "execution_count": 6,
   "id": "16f48e4f",
   "metadata": {},
   "outputs": [
    {
     "data": {
      "text/plain": [
       "array([0., 1., 0., 0., 0., 0., 0., 0., 0., 0., 0., 0., 0., 0.])"
      ]
     },
     "execution_count": 6,
     "metadata": {},
     "output_type": "execute_result"
    }
   ],
   "source": [
    "phi([\"grüß\"])"
   ]
  },
  {
   "cell_type": "code",
   "execution_count": 7,
   "id": "eb69de20",
   "metadata": {},
   "outputs": [
    {
     "data": {
      "text/plain": [
       "array([ 1,  1,  1,  1,  1,  1,  1, -1, -1, -1, -1, -1, -1, -1])"
      ]
     },
     "execution_count": 7,
     "metadata": {},
     "output_type": "execute_result"
    }
   ],
   "source": [
    "#weight vector for classification\n",
    "w_phi = np.array([1,1,1,1,1,1,1,-1,-1,-1,-1,-1,-1,-1]) #first G entries are 1 and rest is filled with -1\n",
    "w_phi"
   ]
  },
  {
   "cell_type": "code",
   "execution_count": 8,
   "id": "cbc57bf9",
   "metadata": {},
   "outputs": [
    {
     "data": {
      "text/plain": [
       "-2.0"
      ]
     },
     "execution_count": 8,
     "metadata": {},
     "output_type": "execute_result"
    }
   ],
   "source": [
    "w_phi.T @ phi([\"yo\",\"dude\"])"
   ]
  },
  {
   "cell_type": "code",
   "execution_count": 9,
   "id": "70490a1c",
   "metadata": {},
   "outputs": [
    {
     "data": {
      "text/plain": [
       "1.0"
      ]
     },
     "execution_count": 9,
     "metadata": {},
     "output_type": "execute_result"
    }
   ],
   "source": [
    "w_phi.T @ phi([\"gott\"])"
   ]
  },
  {
   "cell_type": "markdown",
   "id": "fffa21ff",
   "metadata": {},
   "source": [
    "Kernel"
   ]
  },
  {
   "cell_type": "code",
   "execution_count": 10,
   "id": "63923779",
   "metadata": {},
   "outputs": [
    {
     "data": {
      "text/plain": [
       "2.0"
      ]
     },
     "execution_count": 10,
     "metadata": {},
     "output_type": "execute_result"
    }
   ],
   "source": [
    "phi([\"yo\",\"dude\"]).T @ phi([\"yo\",\"dude\"])"
   ]
  },
  {
   "cell_type": "code",
   "execution_count": null,
   "id": "63f89ff0",
   "metadata": {},
   "outputs": [
    {
     "data": {
      "text/plain": [
       "2.0"
      ]
     },
     "execution_count": 16,
     "metadata": {},
     "output_type": "execute_result"
    }
   ],
   "source": [
    "phi([\"yo\",\"dude\"]).T @ phi([\"dude\",\"yo\"])"
   ]
  },
  {
   "cell_type": "code",
   "execution_count": 11,
   "id": "6703f8be",
   "metadata": {},
   "outputs": [
    {
     "data": {
      "text/plain": [
       "1.0"
      ]
     },
     "execution_count": 11,
     "metadata": {},
     "output_type": "execute_result"
    }
   ],
   "source": [
    "phi([\"yo\",\"dude\"]).T @ phi([\"yo\"])"
   ]
  },
  {
   "cell_type": "code",
   "execution_count": 20,
   "id": "ce1d79df",
   "metadata": {},
   "outputs": [
    {
     "data": {
      "text/plain": [
       "1.0"
      ]
     },
     "execution_count": 20,
     "metadata": {},
     "output_type": "execute_result"
    }
   ],
   "source": [
    "phi([\"dude\",\"was\"]).T @ phi([\"yo\",\"grüß\",\"gott\",\"digga\",\"was\",\"geht\"])"
   ]
  },
  {
   "cell_type": "code",
   "execution_count": null,
   "id": "bdc60c2f",
   "metadata": {},
   "outputs": [
    {
     "data": {
      "text/plain": [
       "2"
      ]
     },
     "execution_count": 12,
     "metadata": {},
     "output_type": "execute_result"
    }
   ],
   "source": [
    "#kernel function calculates how many words the phrases share\n",
    "def k (words1, words2):\n",
    "    return len(set(words1).intersection(set(words2)))\n",
    "\n",
    "k([\"yo\",\"dude\"],[\"yo\",\"dude\"])"
   ]
  },
  {
   "cell_type": "code",
   "execution_count": 21,
   "id": "4edc6bc5",
   "metadata": {},
   "outputs": [
    {
     "data": {
      "text/plain": [
       "array([[1., 0., 0., 0., 0., 0.],\n",
       "       [0., 2., 0., 0., 0., 0.],\n",
       "       [0., 0., 3., 0., 0., 0.],\n",
       "       [0., 0., 0., 2., 0., 0.],\n",
       "       [0., 0., 0., 0., 2., 2.],\n",
       "       [0., 0., 0., 0., 2., 4.]])"
      ]
     },
     "execution_count": 21,
     "metadata": {},
     "output_type": "execute_result"
    }
   ],
   "source": [
    "#Calculate Gram matrix\n",
    "K = np.zeros((len(phrases), len(phrases)))\n",
    "for i in range(0, len(phrases)):\n",
    "    for j in range(0, len(phrases)):\n",
    "        K[i][j] = (k(phrases[i], phrases[j]))\n",
    "\n",
    "K"
   ]
  },
  {
   "cell_type": "code",
   "execution_count": 22,
   "id": "23a7f49d",
   "metadata": {},
   "outputs": [
    {
     "name": "stdout",
     "output_type": "stream",
     "text": [
      "y: [ 1  1  1 -1 -1 -1]\n"
     ]
    },
    {
     "data": {
      "text/plain": [
       "array([ 0.99990001  ,  0.4999750012,  0.3333222226, -0.4999750012,\n",
       "       -0.4999500062, -0.0000249963])"
      ]
     },
     "execution_count": 22,
     "metadata": {},
     "output_type": "execute_result"
    }
   ],
   "source": [
    "# calculate alpha according to formula in lecture\n",
    "lam = 0.0001\n",
    "print(f\"y: {y}\")\n",
    "alpha = np.linalg.inv((K + lam * np.identity(len(phrases)))) @ y.T\n",
    "alpha\n"
   ]
  },
  {
   "cell_type": "code",
   "execution_count": null,
   "id": "7c729e39",
   "metadata": {},
   "outputs": [
    {
     "name": "stdout",
     "output_type": "stream",
     "text": [
      "-0.9999500024998749\n",
      "0.9999000099990001\n",
      "0.49997500124993743\n"
     ]
    }
   ],
   "source": [
    "#predic label\n",
    "def predict(new_phrase, phrases):\n",
    "    y = 0\n",
    "    for i in range(len(phrases)):\n",
    "        y = y  + alpha[i] * k(new_phrase, phrases[i])\n",
    "    return y\n",
    "\n",
    "print(predict([\"yo\",\"dude\"],phrases))\n",
    "print(predict([\"servus\"],phrases))\n",
    "\n",
    "print(predict([\"grüß\"],phrases)) #?\n"
   ]
  }
 ],
 "metadata": {
  "kernelspec": {
   "display_name": "Python 3",
   "language": "python",
   "name": "python3"
  },
  "language_info": {
   "codemirror_mode": {
    "name": "ipython",
    "version": 3
   },
   "file_extension": ".py",
   "mimetype": "text/x-python",
   "name": "python",
   "nbconvert_exporter": "python",
   "pygments_lexer": "ipython3",
   "version": "3.10.11"
  }
 },
 "nbformat": 4,
 "nbformat_minor": 5
}
